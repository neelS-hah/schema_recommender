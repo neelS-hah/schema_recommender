{
 "cells": [
  {
   "cell_type": "markdown",
   "metadata": {},
   "source": [
    "# Schema Recommender \n",
    "\n",
    "## High Level Goal \n",
    " Automate schema creation process, for SD County markup and Schema.org indexing and reference. \n",
    "\n",
    "## Steps \n",
    " - Compare markup and PDF scraper packages/softwares\n",
    " - Create a set of rules to automate scraping \n",
    " - Compile Vocabulary List/Rules to replicate automation process for other counties\n",
    " - Validate Data by Schema standards on Google’s Structured Data Tool \n",
    " - Create a single tool to help governments, hospitals, schools automatically \"markup\" their pages\n",
    "\n",
    "## Current Work \n",
    "- Working on Vocabulary List \n",
    "- Working on script like functioning \n"
   ]
  },
  {
   "cell_type": "markdown",
   "metadata": {},
   "source": [
    "# Setup"
   ]
  },
  {
   "cell_type": "code",
   "execution_count": 1,
   "metadata": {},
   "outputs": [],
   "source": [
    "import requests\n",
    "\n",
    "from bs4 import BeautifulSoup\n",
    "import datetime\n",
    "\n",
    "vocab_list = []\n",
    "date = datetime.datetime.today()"
   ]
  },
  {
   "cell_type": "code",
   "execution_count": 2,
   "metadata": {},
   "outputs": [],
   "source": [
    "url = 'https://www.sandiegocounty.gov/content/sdc/hhsa/programs/phs/community_epidemiology/dc/2019-nCoV/status.html'"
   ]
  },
  {
   "cell_type": "code",
   "execution_count": 3,
   "metadata": {},
   "outputs": [],
   "source": [
    "page = requests.get(url)"
   ]
  },
  {
   "cell_type": "code",
   "execution_count": 4,
   "metadata": {},
   "outputs": [],
   "source": [
    "soup = BeautifulSoup(page.text, 'html.parser')"
   ]
  },
  {
   "cell_type": "code",
   "execution_count": 5,
   "metadata": {},
   "outputs": [
    {
     "name": "stdout",
     "output_type": "stream",
     "text": [
      "['', 'Positive Cases in San Diego County Since February 14,', '        2020 ', 'Coronavirus Disease 2019 (COVID-19) ', 'Table updated June 1, 2020, with data through May 31,', '        2020. ']\n"
     ]
    }
   ],
   "source": [
    "tables = soup.find_all('table')\n",
    "my_list = []\n",
    "for t in tables:\n",
    "    title_list = t.td.text.splitlines()\n",
    "#     if 'coronavirus' not in map(str.lower,title_list):\n",
    "#         continue\n",
    "    print(title_list)\n",
    "    \n"
   ]
  },
  {
   "cell_type": "markdown",
   "metadata": {},
   "source": [
    "## Creating Announcement Schema"
   ]
  },
  {
   "cell_type": "markdown",
   "metadata": {},
   "source": [
    "## San Diego "
   ]
  },
  {
   "cell_type": "code",
   "execution_count": 6,
   "metadata": {},
   "outputs": [],
   "source": [
    "url = 'https://www.sandiegocounty.gov/content/sdc/hhsa/programs/phs/community_epidemiology/dc/2019-nCoV/'\n",
    "page = requests.get(url)\n",
    "soup = BeautifulSoup(page.text, 'html.parser')\n",
    "county = \"San Diego County\""
   ]
  },
  {
   "cell_type": "code",
   "execution_count": 7,
   "metadata": {},
   "outputs": [],
   "source": [
    "\n",
    "def create_schema(title, county, url):\n",
    "    schema = '{\"@context\": \"http://schema.org\",\\\n",
    "     \"@type\": \"SpecialAnnouncement\",\\\n",
    "     \"name\":'+title +',\\\n",
    "     \"text\":' +title +',\\\n",
    "      \"encodingFormat\" : [\"text/html\", \"text/css\" ] ,\\\n",
    "      \"inLanguage\": \"en\",\\\n",
    "      \"datePosted\": \"???\",\\\n",
    "      \"keywords\":'+str(title_list)+',\\\n",
    "      \"publisher\": {\\\n",
    "        \"@type\": \"GovernmentOrganization\",\\\n",
    "        \"name\": ' +county +',\\\n",
    "        }\\\n",
    "        \"url\":'+url + '\\\n",
    "    }'\n",
    "    return schema\n",
    "\n"
   ]
  },
  {
   "cell_type": "code",
   "execution_count": 8,
   "metadata": {},
   "outputs": [
    {
     "name": "stdout",
     "output_type": "stream",
     "text": [
      "{\"@context\": \"http://schema.org\",     \"@type\": \"SpecialAnnouncement\",     \"name\": ,     \"text\": ,      \"encodingFormat\" : [\"text/html\", \"text/css\" ] ,      \"inLanguage\": \"en\",      \"datePosted\": \"???\",      \"keywords\":[],      \"publisher\": {        \"@type\": \"GovernmentOrganization\",        \"name\": San Diego County,        }        \"url\":https://www.sandiegocounty.gov/content/sdc/hhsa/programs/phs/community_epidemiology/dc/2019-nCoV/    }\n",
      "{\"@context\": \"http://schema.org\",     \"@type\": \"SpecialAnnouncement\",     \"name\":Coronavirus  in San Diego,     \"text\":Coronavirus  in San Diego,      \"encodingFormat\" : [\"text/html\", \"text/css\" ] ,      \"inLanguage\": \"en\",      \"datePosted\": \"???\",      \"keywords\":['\\xa0'],      \"publisher\": {        \"@type\": \"GovernmentOrganization\",        \"name\": San Diego County,        }        \"url\":https://www.sandiegocounty.gov/content/sdc/hhsa/programs/phs/community_epidemiology/dc/2019-nCoV/    }\n",
      "{\"@context\": \"http://schema.org\",     \"@type\": \"SpecialAnnouncement\",     \"name\":Testing,     \"text\":Testing,      \"encodingFormat\" : [\"text/html\", \"text/css\" ] ,      \"inLanguage\": \"en\",      \"datePosted\": \"???\",      \"keywords\":['\\xa0', 'Coronavirus  in San Diego'],      \"publisher\": {        \"@type\": \"GovernmentOrganization\",        \"name\": San Diego County,        }        \"url\":https://www.sandiegocounty.gov/content/sdc/hhsa/programs/phs/community_epidemiology/dc/2019-nCoV/    }\n",
      "{\"@context\": \"http://schema.org\",     \"@type\": \"SpecialAnnouncement\",     \"name\":About Coronavirus,     \"text\":About Coronavirus,      \"encodingFormat\" : [\"text/html\", \"text/css\" ] ,      \"inLanguage\": \"en\",      \"datePosted\": \"???\",      \"keywords\":['\\xa0', 'Coronavirus  in San Diego', 'Testing'],      \"publisher\": {        \"@type\": \"GovernmentOrganization\",        \"name\": San Diego County,        }        \"url\":https://www.sandiegocounty.gov/content/sdc/hhsa/programs/phs/community_epidemiology/dc/2019-nCoV/    }\n",
      "{\"@context\": \"http://schema.org\",     \"@type\": \"SpecialAnnouncement\",     \"name\":Community  Sector Support,     \"text\":Community  Sector Support,      \"encodingFormat\" : [\"text/html\", \"text/css\" ] ,      \"inLanguage\": \"en\",      \"datePosted\": \"???\",      \"keywords\":['\\xa0', 'Coronavirus  in San Diego', 'Testing', 'About Coronavirus'],      \"publisher\": {        \"@type\": \"GovernmentOrganization\",        \"name\": San Diego County,        }        \"url\":https://www.sandiegocounty.gov/content/sdc/hhsa/programs/phs/community_epidemiology/dc/2019-nCoV/    }\n",
      "{\"@context\": \"http://schema.org\",     \"@type\": \"SpecialAnnouncement\",     \"name\":Health Professionals,     \"text\":Health Professionals,      \"encodingFormat\" : [\"text/html\", \"text/css\" ] ,      \"inLanguage\": \"en\",      \"datePosted\": \"???\",      \"keywords\":['\\xa0', 'Coronavirus  in San Diego', 'Testing', 'About Coronavirus', 'Community  Sector Support'],      \"publisher\": {        \"@type\": \"GovernmentOrganization\",        \"name\": San Diego County,        }        \"url\":https://www.sandiegocounty.gov/content/sdc/hhsa/programs/phs/community_epidemiology/dc/2019-nCoV/    }\n",
      "{\"@context\": \"http://schema.org\",     \"@type\": \"SpecialAnnouncement\",     \"name\":Resources  and Materials,     \"text\":Resources  and Materials,      \"encodingFormat\" : [\"text/html\", \"text/css\" ] ,      \"inLanguage\": \"en\",      \"datePosted\": \"???\",      \"keywords\":['\\xa0', 'Coronavirus  in San Diego', 'Testing', 'About Coronavirus', 'Community  Sector Support', 'Health Professionals'],      \"publisher\": {        \"@type\": \"GovernmentOrganization\",        \"name\": San Diego County,        }        \"url\":https://www.sandiegocounty.gov/content/sdc/hhsa/programs/phs/community_epidemiology/dc/2019-nCoV/    }\n",
      "{\"@context\": \"http://schema.org\",     \"@type\": \"SpecialAnnouncement\",     \"name\":Prepare  for a Pandemic,     \"text\":Prepare  for a Pandemic,      \"encodingFormat\" : [\"text/html\", \"text/css\" ] ,      \"inLanguage\": \"en\",      \"datePosted\": \"???\",      \"keywords\":['\\xa0', 'Coronavirus  in San Diego', 'Testing', 'About Coronavirus', 'Community  Sector Support', 'Health Professionals', 'Resources  and Materials'],      \"publisher\": {        \"@type\": \"GovernmentOrganization\",        \"name\": San Diego County,        }        \"url\":https://www.sandiegocounty.gov/content/sdc/hhsa/programs/phs/community_epidemiology/dc/2019-nCoV/    }\n",
      "{\"@context\": \"http://schema.org\",     \"@type\": \"SpecialAnnouncement\",     \"name\":Care  for Your Mental Health,     \"text\":Care  for Your Mental Health,      \"encodingFormat\" : [\"text/html\", \"text/css\" ] ,      \"inLanguage\": \"en\",      \"datePosted\": \"???\",      \"keywords\":['\\xa0', 'Coronavirus  in San Diego', 'Testing', 'About Coronavirus', 'Community  Sector Support', 'Health Professionals', 'Resources  and Materials', 'Prepare  for a Pandemic'],      \"publisher\": {        \"@type\": \"GovernmentOrganization\",        \"name\": San Diego County,        }        \"url\":https://www.sandiegocounty.gov/content/sdc/hhsa/programs/phs/community_epidemiology/dc/2019-nCoV/    }\n",
      "{\"@context\": \"http://schema.org\",     \"@type\": \"SpecialAnnouncement\",     \"name\":Text COSD COVID19 to 468-311 to get text alert updates.,     \"text\":Text COSD COVID19 to 468-311 to get text alert updates.,      \"encodingFormat\" : [\"text/html\", \"text/css\" ] ,      \"inLanguage\": \"en\",      \"datePosted\": \"???\",      \"keywords\":['\\xa0', 'Coronavirus  in San Diego', 'Testing', 'About Coronavirus', 'Community  Sector Support', 'Health Professionals', 'Resources  and Materials', 'Prepare  for a Pandemic', 'Care  for Your Mental Health'],      \"publisher\": {        \"@type\": \"GovernmentOrganization\",        \"name\": San Diego County,        }        \"url\":https://www.sandiegocounty.gov/content/sdc/hhsa/programs/phs/community_epidemiology/dc/2019-nCoV/    }\n",
      "{\"@context\": \"http://schema.org\",     \"@type\": \"SpecialAnnouncement\",     \"name\":For general questions about COVID-19, info about resources, or if you're uninsured, call 2-1-1 San Diego. Report face covering violations.,     \"text\":For general questions about COVID-19, info about resources, or if you're uninsured, call 2-1-1 San Diego. Report face covering violations.,      \"encodingFormat\" : [\"text/html\", \"text/css\" ] ,      \"inLanguage\": \"en\",      \"datePosted\": \"???\",      \"keywords\":['\\xa0', 'Coronavirus  in San Diego', 'Testing', 'About Coronavirus', 'Community  Sector Support', 'Health Professionals', 'Resources  and Materials', 'Prepare  for a Pandemic', 'Care  for Your Mental Health', 'Text COSD COVID19 to 468-311 to get text alert updates.'],      \"publisher\": {        \"@type\": \"GovernmentOrganization\",        \"name\": San Diego County,        }        \"url\":https://www.sandiegocounty.gov/content/sdc/hhsa/programs/phs/community_epidemiology/dc/2019-nCoV/    }\n",
      "{\"@context\": \"http://schema.org\",     \"@type\": \"SpecialAnnouncement\",     \"name\":Live Well @ Home,     \"text\":Live Well @ Home,      \"encodingFormat\" : [\"text/html\", \"text/css\" ] ,      \"inLanguage\": \"en\",      \"datePosted\": \"???\",      \"keywords\":['\\xa0', 'Coronavirus  in San Diego', 'Testing', 'About Coronavirus', 'Community  Sector Support', 'Health Professionals', 'Resources  and Materials', 'Prepare  for a Pandemic', 'Care  for Your Mental Health', 'Text COSD COVID19 to 468-311 to get text alert updates.', \"For general questions about COVID-19, info about resources, or if you're uninsured, call\\xa02-1-1 San Diego. Report face covering violations.\"],      \"publisher\": {        \"@type\": \"GovernmentOrganization\",        \"name\": San Diego County,        }        \"url\":https://www.sandiegocounty.gov/content/sdc/hhsa/programs/phs/community_epidemiology/dc/2019-nCoV/    }\n",
      "{\"@context\": \"http://schema.org\",     \"@type\": \"SpecialAnnouncement\",     \"name\":Resources to keep healthy in mind and body while staying at home.,     \"text\":Resources to keep healthy in mind and body while staying at home.,      \"encodingFormat\" : [\"text/html\", \"text/css\" ] ,      \"inLanguage\": \"en\",      \"datePosted\": \"???\",      \"keywords\":['\\xa0', 'Coronavirus  in San Diego', 'Testing', 'About Coronavirus', 'Community  Sector Support', 'Health Professionals', 'Resources  and Materials', 'Prepare  for a Pandemic', 'Care  for Your Mental Health', 'Text COSD COVID19 to 468-311 to get text alert updates.', \"For general questions about COVID-19, info about resources, or if you're uninsured, call\\xa02-1-1 San Diego. Report face covering violations.\", 'Live Well @ Home'],      \"publisher\": {        \"@type\": \"GovernmentOrganization\",        \"name\": San Diego County,        }        \"url\":https://www.sandiegocounty.gov/content/sdc/hhsa/programs/phs/community_epidemiology/dc/2019-nCoV/    }\n",
      "{\"@context\": \"http://schema.org\",     \"@type\": \"SpecialAnnouncement\",     \"name\":Ways to Help,     \"text\":Ways to Help,      \"encodingFormat\" : [\"text/html\", \"text/css\" ] ,      \"inLanguage\": \"en\",      \"datePosted\": \"???\",      \"keywords\":['\\xa0', 'Coronavirus  in San Diego', 'Testing', 'About Coronavirus', 'Community  Sector Support', 'Health Professionals', 'Resources  and Materials', 'Prepare  for a Pandemic', 'Care  for Your Mental Health', 'Text COSD COVID19 to 468-311 to get text alert updates.', \"For general questions about COVID-19, info about resources, or if you're uninsured, call\\xa02-1-1 San Diego. Report face covering violations.\", 'Live Well @ Home', 'Resources to keep healthy in mind and body while staying at home.'],      \"publisher\": {        \"@type\": \"GovernmentOrganization\",        \"name\": San Diego County,        }        \"url\":https://www.sandiegocounty.gov/content/sdc/hhsa/programs/phs/community_epidemiology/dc/2019-nCoV/    }\n",
      "{\"@context\": \"http://schema.org\",     \"@type\": \"SpecialAnnouncement\",     \"name\":Hand  Washing Stations Map,     \"text\":Hand  Washing Stations Map,      \"encodingFormat\" : [\"text/html\", \"text/css\" ] ,      \"inLanguage\": \"en\",      \"datePosted\": \"???\",      \"keywords\":['\\xa0', 'Coronavirus  in San Diego', 'Testing', 'About Coronavirus', 'Community  Sector Support', 'Health Professionals', 'Resources  and Materials', 'Prepare  for a Pandemic', 'Care  for Your Mental Health', 'Text COSD COVID19 to 468-311 to get text alert updates.', \"For general questions about COVID-19, info about resources, or if you're uninsured, call\\xa02-1-1 San Diego. Report face covering violations.\", 'Live Well @ Home', 'Resources to keep healthy in mind and body while staying at home.', 'Ways to Help'],      \"publisher\": {        \"@type\": \"GovernmentOrganization\",        \"name\": San Diego County,        }        \"url\":https://www.sandiegocounty.gov/content/sdc/hhsa/programs/phs/community_epidemiology/dc/2019-nCoV/    }\n",
      "{\"@context\": \"http://schema.org\",     \"@type\": \"SpecialAnnouncement\",     \"name\":Outside resources,     \"text\":Outside resources,      \"encodingFormat\" : [\"text/html\", \"text/css\" ] ,      \"inLanguage\": \"en\",      \"datePosted\": \"???\",      \"keywords\":['\\xa0', 'Coronavirus  in San Diego', 'Testing', 'About Coronavirus', 'Community  Sector Support', 'Health Professionals', 'Resources  and Materials', 'Prepare  for a Pandemic', 'Care  for Your Mental Health', 'Text COSD COVID19 to 468-311 to get text alert updates.', \"For general questions about COVID-19, info about resources, or if you're uninsured, call\\xa02-1-1 San Diego. Report face covering violations.\", 'Live Well @ Home', 'Resources to keep healthy in mind and body while staying at home.', 'Ways to Help', 'Hand  Washing Stations Map'],      \"publisher\": {        \"@type\": \"GovernmentOrganization\",        \"name\": San Diego County,        }        \"url\":https://www.sandiegocounty.gov/content/sdc/hhsa/programs/phs/community_epidemiology/dc/2019-nCoV/    }\n",
      "{\"@context\": \"http://schema.org\",     \"@type\": \"SpecialAnnouncement\",     \"name\":,     \"text\":,      \"encodingFormat\" : [\"text/html\", \"text/css\" ] ,      \"inLanguage\": \"en\",      \"datePosted\": \"???\",      \"keywords\":['\\xa0', 'Coronavirus  in San Diego', 'Testing', 'About Coronavirus', 'Community  Sector Support', 'Health Professionals', 'Resources  and Materials', 'Prepare  for a Pandemic', 'Care  for Your Mental Health', 'Text COSD COVID19 to 468-311 to get text alert updates.', \"For general questions about COVID-19, info about resources, or if you're uninsured, call\\xa02-1-1 San Diego. Report face covering violations.\", 'Live Well @ Home', 'Resources to keep healthy in mind and body while staying at home.', 'Ways to Help', 'Hand  Washing Stations Map', 'Outside resources'],      \"publisher\": {        \"@type\": \"GovernmentOrganization\",        \"name\": San Diego County,        }        \"url\":https://www.sandiegocounty.gov/content/sdc/hhsa/programs/phs/community_epidemiology/dc/2019-nCoV/    }\n"
     ]
    }
   ],
   "source": [
    "\n",
    "titles = soup.find_all('h3')\n",
    "for title in titles:\n",
    "    title = str(title.text)\n",
    "    title = title.replace('\\n','')\n",
    "    break\n",
    "title_list = []\n",
    "for title in titles:\n",
    "    title = str(title.text)\n",
    "    title = title.replace('\\n','')\n",
    "    title = title.replace('  ',' ')\n",
    "    print(create_schema(title, county, url))\n",
    "    title_list.append(title)\n"
   ]
  },
  {
   "cell_type": "code",
   "execution_count": 9,
   "metadata": {},
   "outputs": [
    {
     "name": "stdout",
     "output_type": "stream",
     "text": [
      " \n",
      "Coronavirus  in San Diego\n",
      "Testing\n",
      "About Coronavirus\n",
      "Community  Sector Support\n",
      "Health Professionals\n",
      "Resources  and Materials\n",
      "Prepare  for a Pandemic\n",
      "Care  for Your Mental Health\n",
      "Text COSD COVID19 to 468-311 to get text alert updates.\n",
      "For general questions about COVID-19, info about resources, or if you're uninsured, call 2-1-1 San Diego. Report face covering violations.\n",
      "Live Well @ Home\n",
      "Resources to keep healthy in mind and body while staying at home.\n",
      "Ways to Help\n",
      "Hand  Washing Stations Map\n",
      "Outside resources\n",
      "\n"
     ]
    }
   ],
   "source": [
    "for elem in title_list: print(elem)"
   ]
  },
  {
   "cell_type": "code",
   "execution_count": 10,
   "metadata": {},
   "outputs": [],
   "source": [
    "url = 'https://www.sandiegocounty.gov/content/sdc/hhsa/programs/phs/community_epidemiology/dc/2019-nCoV/status.html'\n",
    "page = requests.get(url)\n",
    "soup = BeautifulSoup(page.text, 'html.parser')\n",
    "county = \"San Diego County\""
   ]
  },
  {
   "cell_type": "code",
   "execution_count": 11,
   "metadata": {},
   "outputs": [
    {
     "name": "stdout",
     "output_type": "stream",
     "text": [
      "[<a href=\"/content/sdc/home.html\">\n",
      "<span id=\"dept-cosd-domain\">\n",
      "<span id=\"sdc-link\">SanDiegoCounty.gov</span>\n",
      "</span>\n",
      "<span id=\"dept-cosd-text\"> Home</span>\n",
      "</a>, <a class=\"dropdown-toggle\" data-toggle=\"dropdown\" href=\"javascript:void(0)\">Departments</a>, <a class=\"dropdown-toggle\" href=\"javascript:void(0)\">A-C</a>, <a href=\"/content/sdc/awm.html\" target=\"\">  Agriculture, Weights and Measures</a>, <a href=\"/content/sdc/apcd/en.html\" target=\"\">  Air Pollution Control District</a>, <a href=\"/content/sdc/hhsa/programs/ais.html\" target=\"\">  Aging &amp; Independence Services</a>, <a href=\"http://www.sddac.com\" target=\"\">  Animal Services</a>, <a href=\"https://arcc.sdcounty.ca.gov/Pages/default.aspx\" target=\"\">  Assessor/Recorder/County Clerk</a>, <a href=\"/content/sdc/auditor.html\" target=\"\">  Auditor/Controller</a>, <a href=\"/content/sdc/hhsa/programs/bhs.html\" target=\"\">  Behavioral Health Services</a>, <a href=\"/content/sdc/cao.html\" target=\"\">  Chief Administrative Office</a>, <a href=\"/content/sdc/cfs.html\" target=\"\">  Child &amp; Family Strengthening Advisory Board</a>, <a href=\"/content/sdc/dcss.html\" target=\"\">  Child Support Services</a>, <a href=\"/content/sdc/hhsa/programs/cs.html\" target=\"\">  Child Welfare Services</a>, <a href=\"/content/sdc/clerb.html\" target=\"\">  Citizens' Law Enforcement Review Board</a>, <a href=\"/content/sdc/civilservice.html\" target=\"\">  Civil Service Commission</a>, <a href=\"/content/sdc/cob.html\" target=\"\">  Clerk of the Board of Supervisors</a>, <a href=\"http://www.countynewscenter.com/contact-us\" target=\"_blank\">  Communications Office</a>, <a href=\"/content/sdc/CountyCounsel.html\" target=\"\">  County Counsel</a>, <a class=\"dropdown-toggle\" href=\"javascript:void(0)\">D-H</a>, <a href=\"http://www.sdcda.org/index.php\" target=\"\">  District Attorney</a>, <a href=\"/content/sdc/diversity.html\" target=\"\">  Diversity &amp; Inclusion</a>, <a href=\"/content/sdc/oes.html\" target=\"\">  Emergency Services</a>, <a href=\"/content/sdc/deh.html\" target=\"\">  Environmental Health</a>, <a href=\"/content/sdc/cao/oec.html\" target=\"\">  Ethics and Compliance</a>, <a href=\"/content/sdc/fg3.html\" target=\"\">  Finance and General Government Group</a>, <a href=\"/content/sdc/sdcfa.html\" target=\"\">  Fire Authority</a>, <a href=\"/content/sdc/general_services.html\" target=\"\">  General Services</a>, <a href=\"/content/sdc/grandjury.html\" target=\"\">  Grand Jury</a>, <a href=\"/content/sdc/hhsa.html\" target=\"\">  Health &amp; Human Services Agency</a>, <a href=\"/content/sdc/sdhcd.html\" target=\"\">  Housing and Community Development</a>, <a href=\"/content/sdc/hr.html\" target=\"\">  Human Resources</a>, <a class=\"dropdown-toggle\" href=\"javascript:void(0)\">J-P</a>, <a href=\"/content/sdc/lueg.html\" target=\"\">  Land Use and Environment Group</a>, <a href=\"http://www.sdcl.org/\" target=\"\">  Library</a>, <a href=\"/content/sdc/me.html\" target=\"\">  Medical Examiner</a>, <a href=\"http://www.sdparks.org/\" target=\"\">  Parks and Recreation</a>, <a href=\"/content/sdc/pds.html\" target=\"\">  Planning &amp; Development Services</a>, <a href=\"/content/sdc/probation.html\" target=\"\">  Probation</a>, <a href=\"/content/sdc/hhsa/programs/papg.html\" target=\"\">  Public Administrator, Guardian, and Conservator</a>, <a href=\"/content/sdc/public_defender.html\" target=\"\">  Public Defender</a>, <a href=\"/content/sdc/hhsa/programs/phs.html\" target=\"\">  Public Health</a>, <a href=\"/content/sdc/public_safety.html\" target=\"\">  Public Safety Group</a>, <a href=\"/content/sdc/dpw.html\" target=\"\">  Public Works</a>, <a href=\"/content/sdc/purchasing.html\" target=\"\">  Purchasing and Contracting</a>, <a class=\"dropdown-toggle\" href=\"javascript:void(0)\">R-Z</a>, <a href=\"http://www.sdvote.com\" target=\"\">  Registrar of Voters</a>, <a href=\"http://www.sdcera.org/\" target=\"\">  Retirement Association (SDCERA)</a>, <a href=\"http://www.sangis.org/\" target=\"\">  SanGIS (Maps)</a>, <a href=\"http://www.sdsheriff.net/\" target=\"\">  Sheriff</a>, <a href=\"/content/sdc/cao/osia.html\" target=\"\">  Strategy and Intergovernmental Affairs</a>, <a href=\"/content/sdc/cto.html\" target=\"\">  Technology Office</a>, <a href=\"http://www.sdtreastax.com/\" target=\"\">  Treasurer/Tax Collector</a>, <a href=\"/content/sdc/fha.html\" target=\"\">  UC Cooperative Extension</a>, <a class=\"dropdown-toggle\" data-toggle=\"dropdown\" href=\"javascript:void(0)\">I Want To...</a>, <a class=\"dropdown-toggle\" href=\"javascript:void(0)\">Apply</a>, <a href=\"http://agency.governmentjobs.com/sdcounty/default.cfm\" target=\"\">  Jobs</a>, <a href=\"http://www.sdvote.com/content/rov/en/VoteByMail.html\" target=\"\">  Mail Ballot</a>, <a href=\"/content/sdc/hhsa/programs/ssp/food_stamps.html\" target=\"\">  CalFresh (Food Stamps)</a>, <a href=\"/content/sdc/hhsa/programs/ssp/medi-cal_program.html\" target=\"\">  Medi-Cal</a>, <a href=\"/content/sdc/sdhcd/rental-assistance/application-directions.html\" target=\"\">  Rental Assistance (Section 8)</a>, <a href=\"/content/sdc/sdhcd/rental-assistance/application-directions.html\" target=\"\">  Public Housing</a>, <a href=\"https://arcc.sdcounty.ca.gov/Pages/marriage-licenses.aspx\" target=\"\">  Marriage License</a>, <a href=\"http://www.sddac.com/content/sdc/das/license-laws/license.html\" target=\"\">  Dog License</a>, <a href=\"https://arcc.sdcounty.ca.gov/Pages/fbn-info.aspx\" target=\"\">  Fictitious Business Name</a>, <a href=\"/content/sdc/cob/passport.html\" target=\"\">  Passport</a>, <a href=\"/content/sdc/volunteer.html\" target=\"\">  Volunteer</a>, <a class=\"dropdown-toggle\" href=\"javascript:void(0)\">Pay</a>, <a href=\"/content/sdc/dcss.html\" target=\"\">  Child Support</a>, <a href=\"http://www.sdttc.com\" target=\"_blank\">  Property Tax</a>, <a href=\"/content/sdc/auditor/orrpage4.html\" target=\"\">  Revenue and Recovery Bill</a>, <a class=\"dropdown-toggle\" href=\"javascript:void(0)\">Report</a>, <a href=\"/content/sdc/hhsa/programs/cs/child_welfare_services/child_abuse_hotline.html\" target=\"\">  Child Abuse</a>, <a href=\"/content/sdc/hhsa/programs/ais/adult_protective_services.html#Reporting_Abuse\" target=\"\">  Elder Abuse</a>, <a href=\"http://www.sddac.com/content/sdc/das/lost-found/report.html\" target=\"\">  Animal Abuse</a>, <a href=\"/content/sdc/pds/ce5/graffiti.html\" target=\"\">  Graffiti</a>, <a href=\"/content/sdc/dpw/roads/svcreq.html\" target=\"\">  Pothole or Road Problem</a>, <a href=\"/content/sdc/dpw/airports/airportsmain/noiseinfo.html\" target=\"\">  Airport Noise</a>, <a href=\"/content/sdc/hhsa/programs/phs/tobacco_control_resource_program/smoking_laws.html\" target=\"\">  Tobacco Complaints</a>, <a href=\"/content/sdc/pds/ce5.html\" target=\"\">  Noise</a>, <a href=\"/content/sdc/deh/fhd/food/foodcomplaints.html\" target=\"\">  Food Sanitation Complaints</a>, <a href=\"/content/sdc/sdhcd/report-fraud.html\" target=\"\">  Rental Assistance Fraud</a>, <a href=\"https://www.sandiegocounty.gov/content/dam/sdc/cao/docs/discrimination_complain_form.pdf\" target=\"_blank\">  Discrimination by the County</a>, <a href=\"/content/sdc/dcss/BPAI-OLD_X.html\" target=\"\">  Public Assistance Fraud</a>, <a href=\"/content/sdc/dpw/watersheds/Reporting.html\" target=\"\">  Stormwater Pollution</a>, <a href=\"/content/sdc/dpw/watersheds/IrrigationRunoff.html\" target=\"\">  Irrigation Runoff</a>, <a class=\"dropdown-toggle\" href=\"javascript:void(0)\">Get a Copy</a>, <a href=\"/content/sdc/hhsa/programs/phs/office_of_vital_records_and_statistics/birth_certificates.html\" target=\"\">  Birth Certificate (Last 24 Months)</a>, <a href=\"https://arcc.sdcounty.ca.gov/pages/birthdeath-certificates.aspx\" target=\"\">  Birth Certificate (Earlier)</a>, <a href=\"https://arcc.sdcounty.ca.gov/Pages/marriage-certificates.aspx\" target=\"\">  Marriage Certificate</a>, <a href=\"https://arcc.sdcounty.ca.gov/pages/birthdeath-certificates.aspx\" target=\"\">  Death Certificate</a>, <a href=\"http://www.sdttc.com\" target=\"_blank\">  Property Tax Bill</a>, <a href=\"https://arcc.sdcounty.ca.gov/Pages/parcelmaps.aspx\" target=\"\">  Parcel Map</a>, <a class=\"dropdown-toggle\" data-toggle=\"dropdown\" href=\"javascript:void(0)\">Government</a>, <a class=\"dropdown-toggle\" href=\"javascript:void(0)\">Supervisors</a>, <a href=\"http://www.gregcox.com/\" target=\"_blank\">  District 1 - Greg Cox</a>, <a href=\"http://www.diannejacob.com/\" target=\"_blank\">  District 2 - Dianne Jacob</a>, <a href=\"http://www.supervisorkristingaspar.com/\" target=\"_blank\">  District 3 - Kristin Gaspar</a>, <a href=\"http://www.supervisornathanfletcher.com\" target=\"_blank\">  District 4 - Nathan Fletcher</a>, <a href=\"http://www.supervisorjimdesmond.com\" target=\"_blank\">  District 5 - Jim Desmond</a>, <a href=\"http://www.arcgis.com/home/webmap/viewer.html?webmap=e75d5c7a59ff4d6a90e862a481c3ba96\" target=\"_blank\">  Find My District</a>, <a href=\"/content/sdc/general/bos.html\" target=\"\">  Supervisors Home Page</a>, <a href=\"http://www.sdvote.com\" target=\"\">  Elections</a>, <a class=\"dropdown-toggle\" href=\"javascript:void(0)\">Meetings</a>, <a href=\"/content/sdc/cob/bosa.html\" target=\"\">  Agendas</a>, <a href=\"/content/sdc/bos/ecomment.html\" target=\"\">  eComment</a>, <a href=\"/content/sdc/general/board-meeting-video.html\" target=\"\">  Meeting Video</a>, <a href=\"/content/sdc/bos/agenda/sop.html\" target=\"\">  Meeting Minutes</a>, <a href=\"/content/sdc/cob/bosa/aginfo.html\" target=\"\">  About Board Meetings</a>, <a href=\"http://countynewscenter.com/video?v=154713\" target=\"_blank\">  How to Speak at a Board Meeting (video)</a>, <a class=\"dropdown-toggle\" href=\"javascript:void(0)\">County Organization</a>, <a href=\"/content/sdc/cosd/departments.html\" target=\"\">  County Departments</a>, <a href=\"/content/sdc/cao/organization.html\" target=\"\">  Organizational Chart</a>, <a href=\"/content/sdc/cao.html\" target=\"\">  Chief Administrative Office</a>, <a href=\"/content/sdc/diversity.html\" target=\"\">  Diversity &amp; Inclusion</a>, <a href=\"/content/sdc/hr.html\" target=\"\">  Human Resources</a>, <a href=\"/content/sdc/volunteer.html\" target=\"\">  Volunteer Opportunities</a>, <a href=\"/content/sdc/pds/PC/sop/PCHearing_stream.html\" target=\"_blank\">  Planning Commission</a>, <a href=\"/content/sdc/pds/CommunityGroups.html\" target=\"\">  Community Planning Groups</a>, <a href=\"/content/sdc/cosd/contact-us.html\" target=\"\">  Contact Us</a>, <a class=\"dropdown-toggle\" href=\"javascript:void(0)\">Facts, Figures &amp; Finance</a>, <a href=\"/content/sdc/auditor/budinfo.html\" target=\"\">  Operational Plan and Budget</a>, <a href=\"http://www.sdcountyannualreport.com/\" target=\"_blank\">  Annual Report</a>, <a href=\"/content/sdc/auditor/cafr.html\" target=\"\">  Comprehensive Annual Financial Report (CAFR)</a>, <a href=\"/content/sdc/fg3/outstandingdebt.html\" target=\"\">  Outstanding Obligations</a>, <a href=\"/content/sdc/fg3/rating.html\" target=\"\">  Credit Rating</a>, <a href=\"/content/sdc/auditor.html\" target=\"\">  Auditor and Controller</a>, <a href=\"/content/sdc/info.html\" target=\"\">  SDCountyInFocus</a>, <a href=\"https://publicpay.ca.gov/Reports/Counties/Counties.aspx\" target=\"_blank\">  Government Compensation Information</a>, <a class=\"dropdown-toggle\" data-toggle=\"dropdown\" href=\"javascript:void(0)\">Residents</a>, <a class=\"dropdown-toggle\" href=\"javascript:void(0)\">Community</a>, <a href=\"http://www.sdcl.org/\" target=\"_blank\">  Library</a>, <a href=\"http://www.sdparks.org/\" target=\"\">  Parks</a>, <a href=\"http://www.sdparks.org/content/sdparks/en/buttons/CampingButton.html\" target=\"\">  Camping</a>, <a href=\"/content/sdc/sdhcd/rental-assistance.html\" target=\"\">  Section 8 Rental Assistance</a>, <a href=\"http://www.sddac.com/\" target=\"_blank\">  Pets</a>, <a href=\"/content/sdc/dpw/roads.html\" target=\"\">  Road Closures</a>, <a href=\"/content/sdc/awm/farmers_markets.html\" target=\"\">  Farmer's Markets</a>, <a href=\"/content/sdc/deh/fhd/ffis.html\" target=\"\">  Restaurant Inspections</a>, <a href=\"http://www.sdbeachinfo.com/\" target=\"_blank\">  Beach and Bay Water</a>, <a href=\"/content/sdc/hhsa/programs/ais/veterans_services.html\" target=\"\">  Veterans Services</a>, <a href=\"/content/sdc/volunteer.html\" target=\"\">  Volunteer Opportunities</a>, <a class=\"dropdown-toggle\" href=\"javascript:void(0)\">Public Assistance</a>, <a href=\"/content/sdc/hhsa/programs/ssp/medi-cal_program.html\" target=\"_blank\">  Medi-Cal</a>, <a href=\"/content/sdc/hhsa/programs/ssp/food_stamps.html\" target=\"\">  CalFresh (Food Stamps)</a>, <a href=\"/content/sdc/hhsa/programs/ssp/calworks.html\" target=\"\">  CalWorks</a>, <a href=\"/content/sdc/hhsa/programs/ssp/access.html\" target=\"\">  Access Customer Service Call Center</a>, <a href=\"/content/sdc/hhsa/programs/ssp/county_medical_services.html\" target=\"\">  County Medical Services</a>, <a href=\"/content/sdc/hhsa/programs/ais/inhome_supportive_services.html\" target=\"\">  In-Home Supportive Services</a>, <a href=\"/content/sdc/sdhcd/rental-assistance.html\" target=\"\">  Section 8 Rental Assistance</a>, <a href=\"/content/sdc/dcss/BPAI-OLD_X.html\" target=\"\">  Public Assistance Investigations</a>, <a class=\"dropdown-toggle\" href=\"javascript:void(0)\">Health</a>, <a href=\"/content/sdc/hhsa/programs/ssp/medi-cal_program.html\" target=\"_blank\">  Medi-Cal</a>, <a href=\"/content/sdc/hhsa/programs/ssp/affordable_care_act.html\" target=\"\">  Affordable Care Act</a>, <a href=\"http://airquality.sdapcd.org/air/forecasts/otoday.html\" target=\"_blank\">  Air Quality Forecast</a>, <a href=\"/content/sdc/hhsa/facilities.html\" target=\"\">  County Health Services Facilities</a>, <a href=\"/content/sdc/hhsa/programs/bhs/mental_health_services_adult_older_adult.html\" target=\"\">  Mental Health, Adults</a>, <a href=\"/content/sdc/hhsa/programs/bhs/mental_health_services_children.html\" target=\"\">  Mental Health, Children</a>, <a href=\"/content/sdc/hhsa.html\" target=\"\">  Health and Human Services Agency</a>, <a href=\"/content/sdc/live_well_san_diego.html\" target=\"\">  Live Well San Diego </a>, <a class=\"dropdown-toggle\" href=\"javascript:void(0)\">Public Safety</a>, <a href=\"http://www.sdsheriff.net/\" target=\"\">  Sheriff</a>, <a href=\"http://www.sdcda.org/\" target=\"\">  District Attorney</a>, <a href=\"/content/sdc/me.html\" target=\"\">  Medical Examiner</a>, <a href=\"/content/sdc/probation.html\" target=\"\">  Probation</a>, <a href=\"/content/sdc/public_defender.html\" target=\"\">  Public Defender</a>, <a href=\"http://www.readysandiego.org/\" target=\"\">  Emergency Preparedness</a>, <a href=\"/content/sdc/sdcfa.html\" target=\"\">  Fire Authority</a>, <a href=\"/content/sdc/clerb.html\" target=\"\">  Law Enforcement Complaints</a>, <a href=\"/content/sdc/hhsa/programs/ais/adult_protective_services.html\" target=\"\">  Adult Protective Services</a>, <a href=\"/content/sdc/hhsa/programs/cs/child_welfare_services.html\" target=\"\">  Child Abuse Hotline</a>, <a class=\"dropdown-toggle\" data-toggle=\"dropdown\" href=\"javascript:void(0)\">Business</a>, <a class=\"dropdown-toggle\" href=\"javascript:void(0)\">Procurement</a>, <a href=\"/content/sdc/purchasing.html\" target=\"\">  Purchasing and Contracting Dept.</a>, <a href=\"https://buynet.sdcounty.ca.gov/Solicitations/OpenSolicitations.aspx?RegUser=Guest\" target=\"\">  View Open Solicitations - BuyNet</a>, <a href=\"https://buynet.sdcounty.ca.gov/\" target=\"\">  Login and Registration - BuyNet </a>, <a class=\"dropdown-toggle\" href=\"javascript:void(0)\">Building</a>, <a href=\"/content/sdc/pds/bldgforms.html\" target=\"\">  Building Permits</a>, <a href=\"/content/sdc/pds/appforms.html\" target=\"\">  Discretionary Permits (Administrative Permits, Major Use, Site Plans, Variances. etc.)</a>, <a href=\"/content/sdc/pds/OnlinePermits.html\" target=\"\">  Online Building Permit Process</a>, <a href=\"/content/sdc/cosd/businesslicenses.html\" target=\"\">  Business Licenses</a>, <a href=\"/content/sdc/pds/zoning.html\" target=\"\">  Zoning Ordinance</a>, <a href=\"/content/sdc/pds/generalplan.html\" target=\"\">  General Plan</a>, <a href=\"/content/sdc/apcd/en/engineering/Permits.html\" target=\"\">  Air Quality Permits</a>, <a href=\"/content/sdc/pds.html\" target=\"\">  Planning &amp; Development Services</a>, <a href=\"/content/sdc/pds/deptfile.html\" target=\"\">  Planning &amp; Development Services Contact/Office</a>, <a class=\"dropdown-toggle\" href=\"javascript:void(0)\">Food</a>, <a href=\"/content/sdc/deh/fhd/food/food.html\" target=\"\">  Foodhandler Program</a>, <a href=\"/content/sdc/deh/fhd/food/publications.html\" target=\"\">  Food Permits, Rules</a>, <a href=\"/content/sdc/deh/fhd/food/foodplancheck.html\" target=\"\">  Food Plan Check</a>, <a href=\"/content/sdc/deh/fhd/food/tempevents.html\" target=\"\">  Special Event Food Permits</a>, <a class=\"dropdown-toggle\" href=\"javascript:void(0)\">Additional Permits</a>, <a href=\"/content/sdc/awm/WM_New/device-and-pos-registration.html\" target=\"\">  Weighing and Measuring Devices</a>, <a href=\"/content/sdc/deh/fhd/bodyart/bodyartpublications.html\" target=\"_blank\">  Body Art</a>, <a href=\"/content/sdc/awm/nursery.html\" target=\"\">  Nurseries</a>, <a href=\"/content/sdc/awm/pesticides.html\" target=\"\">  Pest Control</a>, <a href=\"/content/sdc/awm/WM_New/device-and-pos-registration.html\" target=\"\">  Point-of-Sale Systems</a>, <a href=\"/content/sdc/hr.html\">Jobs</a>, <a href=\"/content/sdc/hhsa/programs/phs/community_epidemiology/dc/2019-nCoV.html\" id=\"cosd-seal-link\"><img alt=\"Coronavirus header\" id=\"cosd-seal\" src=\"/content/dam/sdc/initialcontent/logo/cosd-seal-sm.png\" title=\"Coronavirus header\"/></a>, <a href=\"/content/sdc/hhsa/programs/phs/community_epidemiology/dc/2019-nCoV.html\" id=\"dept-name-link\"><span id=\"dept-name\">Coronavirus Disease 2019 </span></a>, <a href=\"/content/sdc/hhsa/programs/phs/community_epidemiology/dc/2019-nCoV.html\" id=\"nav-home\"><img alt=\"home icon\" id=\"icon-home\" src=\"/etc/designs/sdc/county/countydesign/images/icon-home.png\"/></a>, <a href=\"/content/sdc/hhsa/programs/phs/community_epidemiology/dc/2019-nCoV/status.html\">Coronavirus in San Diego</a>, <a href=\"/content/sdc/hhsa/programs/phs/community_epidemiology/dc/2019-nCoV/health-order.html\">Health Order</a>, <a href=\"/content/sdc/hhsa/programs/phs/community_epidemiology/dc/2019-nCoV/reopening.html\">Reopening</a>, <a href=\"/content/sdc/hhsa/programs/phs/community_epidemiology/dc/2019-nCoV/CommunitySectors/Healthcare_Providers_Community_Clinics_Hospitals_and_Pharmacies.html\">Health Professionals</a>, <a href=\"mailto:?subject=View this page! &amp;body=[sub]\" onclick=\"this.href = this.href.replace('[sub]',window.location)\">\n",
      "<img alt=\"email icon\" src=\"/etc/designs/sdc/county/countydesign/images/icon-email-page.png\"/></a>, <a href=\"javascript:window.print()\">\n",
      "<img alt=\"print icon\" src=\"/etc/designs/sdc/county/countydesign/images/icon-print-page.png\"/></a>, <a adhocenable=\"false\" href=\"https://www.cdc.gov/coronavirus/2019-ncov/cases-in-us.html\" target=\"_blank\">CDC website</a>, <a adhocenable=\"false\" href=\"https://www.arcgis.com/apps/opsdashboard/index.html#/96feda77f12f46638b984fcb1d17bd24\" target=\"_blank\">County of San Diego Coronavirus Disease (COVID-19) Dashboard</a>, <a adhocenable=\"false\" href=\"https://www.arcgis.com/apps/opsdashboard/index.html#/d5ff247cde6547a2886218e7ba50c961\" target=\"_blank\">**Mobile Version of Dashboard**</a>, <a adhocenable=\"false\" href=\"/content/dam/sdc/hhsa/programs/phs/Epidemiology/COVID-19%20Tests%20in%20San%20Diego%20County%20by%20Date%20Reported.pdf\" target=\"_blank\">COVID-19 Tests in San Diego\n",
      "      County by Date Reported</a>, <a adhocenable=\"false\" href=\"/content/dam/sdc/hhsa/programs/phs/Epidemiology/COVID-19%20Percentage%20Positive.pdf\" target=\"_blank\">Percentage of Positive\n",
      "      COVID‐19 Cases Among Tests by Date Reported</a>, <a adhocenable=\"false\" href=\"/content/dam/sdc/hhsa/programs/phs/Epidemiology/COVID-19%20Bar%20Graph%20of%20New%20and%20Total%20Cases.pdf\" target=\"_blank\">Bar Graph of New and Total\n",
      "      COVID-19 Cases in San Diego County by Date\n",
      "  Reported</a>, <a adhocenable=\"false\" href=\"/content/dam/sdc/hhsa/programs/phs/Epidemiology/COVID-19%20Cases%20by%20Date%20of%20Illness%20Onset.pdf\" target=\"_blank\">Confirmed COVID-19 Cases by Date of Illness\n",
      "  Onset</a>, <a adhocenable=\"false\" href=\"/content/dam/sdc/hhsa/programs/phs/Epidemiology/COVID-19%20Daily%20Update_City%20of%20Residence.pdf\" target=\"_blank\">Summary of County of San Diego\n",
      "      COVID-19 Cases by City of Residence</a>, <a adhocenable=\"false\" href=\"/content/dam/sdc/hhsa/programs/phs/Epidemiology/COVID-19%20City%20of%20Residence_MAP.pdf\" target=\"_blank\">Map of Cases by City of\n",
      "  Residence</a>, <a adhocenable=\"false\" href=\"/content/dam/sdc/hhsa/programs/phs/Epidemiology/COVID-19%20Race%20and%20Ethnicity%20Summary.pdf\" target=\"_blank\">Summary of County of San Diego\n",
      "      COVID-19 Cases by Race/Ethnicity</a>, <a adhocenable=\"false\" href=\"/content/dam/sdc/hhsa/programs/phs/Epidemiology/COVID-19%20Summary%20of%20Cases%20by%20Zip%20Code.pdf\" target=\"_blank\">Summary of County of San Diego\n",
      "      COVID-19 Cases by Zip Code</a>, <a adhocenable=\"false\" href=\"/content/dam/sdc/hhsa/programs/phs/Epidemiology/COVID-19%20Hospitalizations%20by%20Date%20Admitted.pdf\" target=\"_blank\">COVID-19-Associated Hospitalizations by Date of\n",
      "  Admission</a>, <a adhocenable=\"false\" href=\"/content/dam/sdc/hhsa/programs/phs/Epidemiology/COVID-19%20Hospitalizations%20Summary_ALL.pdf\" target=\"_blank\">Summary of County of San Diego\n",
      "      COVID-19 Cases that Required Hospitalization</a>, <a adhocenable=\"false\" href=\"/content/dam/sdc/hhsa/programs/phs/Epidemiology/COVID-19%20Deaths%20by%20Date%20of%20Death.pdf\" target=\"_blank\">COVID-19-Associated Deaths by Date of\n",
      "  Death</a>, <a adhocenable=\"false\" href=\"/content/dam/sdc/hhsa/programs/phs/Epidemiology/COVID-19%20Deaths%20by%20Demographics.pdf\" target=\"_blank\">Summary of County of San Diego COVID-19 Deaths by\n",
      "    Demographics</a>, <a adhocenable=\"false\" href=\"/content/dam/sdc/hhsa/programs/phs/Epidemiology/covid19/MediaBriefingSlides/mediaBriefingSlides.pdf\" target=\"_blank\">Latest News Briefing Slides</a>, <a adhocenable=\"false\" href=\"/content/dam/sdc/hhsa/programs/phs/Epidemiology/COVID-19%20Watch.pdf\" target=\"_blank\">COVID-19 Watch</a>, <a class=\" btn-primaryBtn\" href=\"https://public.govdelivery.com/accounts/CASAND/subscriber/new?preferences=true#tab1\" role=\"button\" style=\"text-decoration: none; color: #fff;\" target=\"_blank\">\n",
      "\t\t\t\t\tSubscribe to the COVID-19 Watch </a>, <a adhocenable=\"false\" href=\"/content/sdc/hhsa/programs/phs/community_epidemiology/dc/2019-nCoV/materials/Spanish.html\">Recursos\n",
      "      en español</a>, <a adhocenable=\"false\" href=\"/content/sdc/hhsa/programs/phs/community_epidemiology/dc/2019-nCoV/materials/Arabic.html\">معلومات\n",
      "      باللغة العربية</a>, <a adhocenable=\"false\" href=\"/content/sdc/hhsa/programs/phs/community_epidemiology/dc/2019-nCoV/materials/Chinese.html\">中文信息</a>, <a adhocenable=\"false\" href=\"/content/sdc/hhsa/programs/phs/community_epidemiology/dc/2019-nCoV/materials/Tagalog.html\">Impormasyon\n",
      "      sa Tagalog</a>, <a adhocenable=\"false\" href=\"/content/sdc/hhsa/programs/phs/community_epidemiology/dc/2019-nCoV/materials/Vietnamese.html\">Thông\n",
      "      Tin Bằng Tiếng Việt</a>, <a adhocenable=\"false\" href=\"/content/sdc/hhsa/programs/phs/community_epidemiology/dc/2019-nCoV/materials/Somali.html\">Macluumaad\n",
      "      Af-Soomaali ah</a>, <a href=\"https://www.cdc.gov/coronavirus/2019-ncov/index.html\" target=\"_blank\">  Centers for Disease Control</a>, <a href=\"https://www.who.int/emergencies/diseases/novel-coronavirus-2019\" target=\"_blank\">  World Health Organization</a>, <a href=\"https://www.cdph.ca.gov/Programs/CID/DCDC/Pages/Immunization/ncov2019.aspx\" target=\"_blank\">  CA Dept. Public Health</a>, <a href=\"https://www.countynewscenter.com\" target=\"_blank\">More Stories</a>, <a href=\"https://www.sandiegocounty.gov/content/sdc/cosd/contact-us.html\">General County Information</a>, <a href=\"https://www.211sandiego.org/\" target=\"_blank\">2-1-1 San Diego</a>, <a href=\"https://www.sandiegocounty.gov/content/sdc/general/bos.html\" target=\"_blank\">Board of Supervisors</a>, <a href=\"https://www.sandiegocounty.gov/content/sdc/dmpr/colist.html\" target=\"_blank\">Department Contacts</a>, <a href=\"https://www.sandiegocounty.gov/content/sdc/dmpr/piolist.html\" target=\"_blank\">Media Information</a>, <a href=\"https://www.sandiegocounty.gov/content/sdc/home.html\" target=\"_blank\">County Home</a>, <a href=\"https://www.sandiegocounty.gov/content/sdc/cosd/departments.html\" target=\"_blank\">Departments</a>, <a href=\"https://www.sandiegocounty.gov/content/sdc/cosd/i-want-to.html\" target=\"_blank\">I Want To...</a>, <a href=\"https://www.sandiegocounty.gov/content/sdc/cosd/government.html\" target=\"_blank\">Government</a>, <a href=\"https://www.sandiegocounty.gov/content/sdc/cosd/residents.html\" target=\"_blank\">Residents</a>, <a href=\"https://www.sandiegocounty.gov/content/sdc/cosd/business.html\" target=\"_blank\">Business</a>, <a href=\"https://www.sandiegocounty.gov/content/sdc/hr.html\" target=\"_blank\">Jobs</a>, <a href=\"https://www.sandiegocounty.gov/content/sdc/cosd/services.html\" target=\"_blank\">Services A-Z</a>, <a href=\"https://www.sandiegocounty.gov/content/sdc/cosd/visiting-san-diego.html\" target=\"_blank\">Visiting San Diego</a>, <a href=\"https://www.sandiegocounty.gov/content/sdc/cosd/accessibility.html\" target=\"_blank\">Accessibility</a>, <a href=\"https://www.sandiegocounty.gov/content/sdc/cosd/privacy.html\" target=\"_blank\">Security &amp; Privacy Policies</a>, <a href=\"https://www.sandiegocounty.gov/content/sdc/cosd/websiteissues.html\" target=\"_blank\">Website Issues</a>, <a href=\"https://www.twitter.com/SanDiegoCounty \" target=\"_blank\"><img alt=\"Follow @SanDiegoCounty on Twitter\" src=\"/etc/designs/sdc/county/countydesign/images/icon-twitter.png\" title=\"Follow @SanDiegoCounty on Twitter\"/></a>, <a href=\"https://www.facebook.com/sandiegocounty\" target=\"_blank\"><img alt=\"Like SanDiegoCounty on Facebook\" src=\"/etc/designs/sdc/county/countydesign/images/icon-facebook.png\" title=\"Like SanDiegoCounty on Facebook\"/></a>, <a href=\"https://www.surveymonkey.com/r/cosd-feedback?type=GlobalFooter\" target=\"_blank\"><img alt=\"Provide Feedback\" src=\"/etc/designs/sdc/county/countydesign/images/icon-feedback.png\" title=\"Provide Feedback\"/></a>, <a href=\"https://www.sandiegocounty.gov/content/sdc/dmpr/gfx/appcenter/index.html\" target=\"_blank\"><img alt=\"County App Center\" src=\"/etc/designs/sdc/county/countydesign/images/icon-app.png\" title=\"County App Center\"/></a>, <a href=\"https://service.govdelivery.com/service/multi_subscribe.html?code=CASAND\" target=\"_blank\"><img alt=\"Subscribe to E-mail Updates\" src=\"/etc/designs/sdc/county/countydesign/images/icon-email.png\" title=\"Subscribe to E-mail Updates\"/></a>, <a href=\"https://www.readysandiego.org/alertsandiego\" target=\"_blank\"><img alt=\"Alert San Diego\" src=\"/etc/designs/sdc/county/countydesign/images/icon-alert.png\" title=\"Alert San Diego\"/></a>, <a href=\"https://www.sandiegocounty.gov/content/sdc/cosd/connections.html\" target=\"_blank\">More Connections</a>]\n"
     ]
    }
   ],
   "source": [
    "titles = soup.find_all('a')\n",
    "   \n",
    "# titles = soup.find('COVID-19')\n",
    "print(titles)"
   ]
  },
  {
   "cell_type": "code",
   "execution_count": 12,
   "metadata": {},
   "outputs": [
    {
     "name": "stdout",
     "output_type": "stream",
     "text": [
      "County of San Diego Coronavirus Disease (COVID-19) Dashboard\n",
      "COVID-19 Tests in San Diego      County by Date Reported\n",
      "Percentage of Positive      COVID‐19 Cases Among Tests by Date Reported\n",
      "Bar Graph of New and Total      COVID-19 Cases in San Diego County by Date  Reported\n",
      "Confirmed COVID-19 Cases by Date of Illness  Onset\n",
      "Summary of County of San Diego      COVID-19 Cases by City of Residence\n",
      "Summary of County of San Diego      COVID-19 Cases by Race/Ethnicity\n",
      "Summary of County of San Diego      COVID-19 Cases by Zip Code\n",
      "COVID-19-Associated Hospitalizations by Date of  Admission\n",
      "Summary of County of San Diego      COVID-19 Cases that Required Hospitalization\n",
      "COVID-19-Associated Deaths by Date of  Death\n",
      "Summary of County of San Diego COVID-19 Deaths by    Demographics\n",
      "COVID-19 Watch\n",
      "\t\t\t\t\tSubscribe to the COVID-19 Watch \n"
     ]
    }
   ],
   "source": [
    "link_dict = {}\n",
    "for title in titles:\n",
    "    if title.has_attr('href') and 'COVID' in str(title.text):\n",
    "        link_dict[title.text] = title['href']\n",
    "        title = str(title.text)\n",
    "        title = title.replace('\\n','')\n",
    "        print(title)\n",
    "        title_list.append(title)\n",
    "        "
   ]
  },
  {
   "cell_type": "code",
   "execution_count": 13,
   "metadata": {},
   "outputs": [
    {
     "data": {
      "text/plain": [
       "{'County of San Diego Coronavirus Disease (COVID-19) Dashboard': 'https://www.arcgis.com/apps/opsdashboard/index.html#/96feda77f12f46638b984fcb1d17bd24',\n",
       " 'COVID-19 Tests in San Diego\\n      County by Date Reported': '/content/dam/sdc/hhsa/programs/phs/Epidemiology/COVID-19%20Tests%20in%20San%20Diego%20County%20by%20Date%20Reported.pdf',\n",
       " 'Percentage of Positive\\n      COVID‐19 Cases Among Tests by Date Reported': '/content/dam/sdc/hhsa/programs/phs/Epidemiology/COVID-19%20Percentage%20Positive.pdf',\n",
       " 'Bar Graph of New and Total\\n      COVID-19 Cases in San Diego County by Date\\n  Reported': '/content/dam/sdc/hhsa/programs/phs/Epidemiology/COVID-19%20Bar%20Graph%20of%20New%20and%20Total%20Cases.pdf',\n",
       " 'Confirmed COVID-19 Cases by Date of Illness\\n  Onset': '/content/dam/sdc/hhsa/programs/phs/Epidemiology/COVID-19%20Cases%20by%20Date%20of%20Illness%20Onset.pdf',\n",
       " 'Summary of County of San Diego\\n      COVID-19 Cases by City of Residence': '/content/dam/sdc/hhsa/programs/phs/Epidemiology/COVID-19%20Daily%20Update_City%20of%20Residence.pdf',\n",
       " 'Summary of County of San Diego\\n      COVID-19 Cases by Race/Ethnicity': '/content/dam/sdc/hhsa/programs/phs/Epidemiology/COVID-19%20Race%20and%20Ethnicity%20Summary.pdf',\n",
       " 'Summary of County of San Diego\\n      COVID-19 Cases by Zip Code': '/content/dam/sdc/hhsa/programs/phs/Epidemiology/COVID-19%20Summary%20of%20Cases%20by%20Zip%20Code.pdf',\n",
       " 'COVID-19-Associated Hospitalizations by Date of\\n  Admission': '/content/dam/sdc/hhsa/programs/phs/Epidemiology/COVID-19%20Hospitalizations%20by%20Date%20Admitted.pdf',\n",
       " 'Summary of County of San Diego\\n      COVID-19 Cases that Required Hospitalization': '/content/dam/sdc/hhsa/programs/phs/Epidemiology/COVID-19%20Hospitalizations%20Summary_ALL.pdf',\n",
       " 'COVID-19-Associated Deaths by Date of\\n  Death': '/content/dam/sdc/hhsa/programs/phs/Epidemiology/COVID-19%20Deaths%20by%20Date%20of%20Death.pdf',\n",
       " 'Summary of County of San Diego COVID-19 Deaths by\\n    Demographics': '/content/dam/sdc/hhsa/programs/phs/Epidemiology/COVID-19%20Deaths%20by%20Demographics.pdf',\n",
       " 'COVID-19 Watch': '/content/dam/sdc/hhsa/programs/phs/Epidemiology/COVID-19%20Watch.pdf',\n",
       " '\\n\\t\\t\\t\\t\\tSubscribe to the COVID-19 Watch ': 'https://public.govdelivery.com/accounts/CASAND/subscriber/new?preferences=true#tab1'}"
      ]
     },
     "execution_count": 13,
     "metadata": {},
     "output_type": "execute_result"
    }
   ],
   "source": [
    "link_dict"
   ]
  },
  {
   "cell_type": "code",
   "execution_count": 14,
   "metadata": {},
   "outputs": [],
   "source": [
    "for elem in link_dict:\n",
    "    create_schema(elem, 'San Diego', link_dict[elem])"
   ]
  },
  {
   "cell_type": "markdown",
   "metadata": {},
   "source": [
    "## Creating Observation Schema"
   ]
  },
  {
   "cell_type": "code",
   "execution_count": 15,
   "metadata": {},
   "outputs": [
    {
     "data": {
      "text/plain": [
       "\"\\nExample observation schema \\ntype - observations \\nname - case counts\\ntext - case counts val\\nencoding - text/html\\ninLanguage - en\\ndatePosted - date_last\\nkeywords - same vocab list \\npublisher - {type - govt organization \\n             name - San Diego\\n             URL - 'https://www.sandiegocounty.gov/content/sdc/hhsa/programs/phs/community_epidemiology/dc/2019-nCoV/status.html}''\\n            \\n\\n\""
      ]
     },
     "execution_count": 15,
     "metadata": {},
     "output_type": "execute_result"
    }
   ],
   "source": [
    "def create_schema_observations(title, county, url, counts):\n",
    "    schema = '{\"@context\": \"http://schema.org\",\\\n",
    "     \"@type\": \"Special Announcement\",\\\n",
    "     \"name\":'+'\"'+str(county)+'\"'+',\\\n",
    "     \"text\":'+'\"'+str(counts)+'\"'+',\\\n",
    "      \"encodingFormat\" : [\"text/html\", \"text/css\" ] ,\\\n",
    "      \"inLanguage\": \"en\",\\\n",
    "      \"datePosted\":' +'\"'+str(date) +'\"'+',\\\n",
    "      \"keywords\":'+'\"'+str(1)+'\"'+',\\\n",
    "      \"publisher\": {\\\n",
    "        \"@type\": \"GovernmentOrganization\",\\\n",
    "        \"name\": ' +'\"'+county +'\"'+'\\\n",
    "        },\\\n",
    "        \"url\":'+'\"'+url +'\"'+ '\\\n",
    "    }'\n",
    "    return schema\n",
    "\n",
    "\n",
    "'''\n",
    "Example observation schema \n",
    "type - observations \n",
    "name - case counts\n",
    "text - case counts val\n",
    "encoding - text/html\n",
    "inLanguage - en\n",
    "datePosted - date_last\n",
    "keywords - same vocab list \n",
    "publisher - {type - govt organization \n",
    "             name - San Diego\n",
    "             URL - 'https://www.sandiegocounty.gov/content/sdc/hhsa/programs/phs/community_epidemiology/dc/2019-nCoV/status.html}''\n",
    "            \n",
    "\n",
    "'''\n"
   ]
  },
  {
   "cell_type": "code",
   "execution_count": 16,
   "metadata": {},
   "outputs": [],
   "source": [
    "import pandas as pd\n",
    "observation_table = pd.read_csv('COVID_COUNTS_SANDIEGO (2).csv')"
   ]
  },
  {
   "cell_type": "code",
   "execution_count": 17,
   "metadata": {},
   "outputs": [],
   "source": [
    "observation_table = observation_table.drop(\"Unnamed: 0\",1)"
   ]
  },
  {
   "cell_type": "code",
   "execution_count": 18,
   "metadata": {},
   "outputs": [
    {
     "data": {
      "text/html": [
       "<div>\n",
       "<style scoped>\n",
       "    .dataframe tbody tr th:only-of-type {\n",
       "        vertical-align: middle;\n",
       "    }\n",
       "\n",
       "    .dataframe tbody tr th {\n",
       "        vertical-align: top;\n",
       "    }\n",
       "\n",
       "    .dataframe thead th {\n",
       "        text-align: right;\n",
       "    }\n",
       "</style>\n",
       "<table border=\"1\" class=\"dataframe\">\n",
       "  <thead>\n",
       "    <tr style=\"text-align: right;\">\n",
       "      <th></th>\n",
       "      <th>City</th>\n",
       "      <th>Count</th>\n",
       "      <th>%age of total</th>\n",
       "      <th>Rate per 100000</th>\n",
       "    </tr>\n",
       "  </thead>\n",
       "  <tbody>\n",
       "    <tr>\n",
       "      <th>0</th>\n",
       "      <td>Incorporated City</td>\n",
       "      <td>4,714</td>\n",
       "      <td>86.3%</td>\n",
       "      <td>166.9</td>\n",
       "    </tr>\n",
       "    <tr>\n",
       "      <th>1</th>\n",
       "      <td>Carlsbad</td>\n",
       "      <td>69</td>\n",
       "      <td>1.3%</td>\n",
       "      <td>60.2</td>\n",
       "    </tr>\n",
       "    <tr>\n",
       "      <th>2</th>\n",
       "      <td>Chula Vista</td>\n",
       "      <td>795</td>\n",
       "      <td>14.6%</td>\n",
       "      <td>297.2</td>\n",
       "    </tr>\n",
       "    <tr>\n",
       "      <th>3</th>\n",
       "      <td>Coronado</td>\n",
       "      <td>16</td>\n",
       "      <td>0.3%</td>\n",
       "      <td>73.8</td>\n",
       "    </tr>\n",
       "    <tr>\n",
       "      <th>4</th>\n",
       "      <td>Del Mar</td>\n",
       "      <td>13</td>\n",
       "      <td>0.2%</td>\n",
       "      <td>***</td>\n",
       "    </tr>\n",
       "    <tr>\n",
       "      <th>5</th>\n",
       "      <td>El Cajon</td>\n",
       "      <td>329</td>\n",
       "      <td>6.0%</td>\n",
       "      <td>311.7</td>\n",
       "    </tr>\n",
       "    <tr>\n",
       "      <th>6</th>\n",
       "      <td>Encinitas</td>\n",
       "      <td>40</td>\n",
       "      <td>0.7%</td>\n",
       "      <td>63.3</td>\n",
       "    </tr>\n",
       "    <tr>\n",
       "      <th>7</th>\n",
       "      <td>Escondido</td>\n",
       "      <td>185</td>\n",
       "      <td>3.4%</td>\n",
       "      <td>122.1</td>\n",
       "    </tr>\n",
       "    <tr>\n",
       "      <th>8</th>\n",
       "      <td>Imperial Beach</td>\n",
       "      <td>50</td>\n",
       "      <td>0.9%</td>\n",
       "      <td>177.5</td>\n",
       "    </tr>\n",
       "    <tr>\n",
       "      <th>9</th>\n",
       "      <td>La Mesa</td>\n",
       "      <td>100</td>\n",
       "      <td>1.8%</td>\n",
       "      <td>163.2</td>\n",
       "    </tr>\n",
       "    <tr>\n",
       "      <th>10</th>\n",
       "      <td>Lemon Grove</td>\n",
       "      <td>54</td>\n",
       "      <td>1.0%</td>\n",
       "      <td>201.2</td>\n",
       "    </tr>\n",
       "    <tr>\n",
       "      <th>11</th>\n",
       "      <td>National City</td>\n",
       "      <td>265</td>\n",
       "      <td>4.9%</td>\n",
       "      <td>425.7</td>\n",
       "    </tr>\n",
       "    <tr>\n",
       "      <th>12</th>\n",
       "      <td>Oceanside</td>\n",
       "      <td>128</td>\n",
       "      <td>2.3%</td>\n",
       "      <td>72.2</td>\n",
       "    </tr>\n",
       "    <tr>\n",
       "      <th>13</th>\n",
       "      <td>Poway</td>\n",
       "      <td>35</td>\n",
       "      <td>0.6%</td>\n",
       "      <td>69.7</td>\n",
       "    </tr>\n",
       "    <tr>\n",
       "      <th>14</th>\n",
       "      <td>San Diego</td>\n",
       "      <td>2,438</td>\n",
       "      <td>44.7%</td>\n",
       "      <td>171.7</td>\n",
       "    </tr>\n",
       "    <tr>\n",
       "      <th>15</th>\n",
       "      <td>San Marcos</td>\n",
       "      <td>54</td>\n",
       "      <td>1.0%</td>\n",
       "      <td>56.4</td>\n",
       "    </tr>\n",
       "    <tr>\n",
       "      <th>16</th>\n",
       "      <td>Santee</td>\n",
       "      <td>49</td>\n",
       "      <td>0.9%</td>\n",
       "      <td>86.0</td>\n",
       "    </tr>\n",
       "    <tr>\n",
       "      <th>17</th>\n",
       "      <td>Solana Beach</td>\n",
       "      <td>7</td>\n",
       "      <td>0.1%</td>\n",
       "      <td>50.2</td>\n",
       "    </tr>\n",
       "    <tr>\n",
       "      <th>18</th>\n",
       "      <td>Vista</td>\n",
       "      <td>87</td>\n",
       "      <td>1.6%</td>\n",
       "      <td>84.2</td>\n",
       "    </tr>\n",
       "    <tr>\n",
       "      <th>19</th>\n",
       "      <td>Unincorporated</td>\n",
       "      <td>746</td>\n",
       "      <td>13.7%</td>\n",
       "      <td>145.4</td>\n",
       "    </tr>\n",
       "  </tbody>\n",
       "</table>\n",
       "</div>"
      ],
      "text/plain": [
       "                 City  Count %age of total Rate per 100000\n",
       "0   Incorporated City  4,714         86.3%           166.9\n",
       "1            Carlsbad     69          1.3%            60.2\n",
       "2         Chula Vista    795         14.6%           297.2\n",
       "3            Coronado     16          0.3%            73.8\n",
       "4             Del Mar     13          0.2%             ***\n",
       "5            El Cajon    329          6.0%           311.7\n",
       "6           Encinitas     40          0.7%            63.3\n",
       "7           Escondido    185          3.4%           122.1\n",
       "8      Imperial Beach     50          0.9%           177.5\n",
       "9             La Mesa    100          1.8%           163.2\n",
       "10        Lemon Grove     54          1.0%           201.2\n",
       "11      National City    265          4.9%           425.7\n",
       "12          Oceanside    128          2.3%            72.2\n",
       "13              Poway     35          0.6%            69.7\n",
       "14          San Diego  2,438         44.7%           171.7\n",
       "15         San Marcos     54          1.0%            56.4\n",
       "16             Santee     49          0.9%            86.0\n",
       "17       Solana Beach      7          0.1%            50.2\n",
       "18              Vista     87          1.6%            84.2\n",
       "19     Unincorporated    746         13.7%           145.4"
      ]
     },
     "execution_count": 18,
     "metadata": {},
     "output_type": "execute_result"
    }
   ],
   "source": [
    "observation_table"
   ]
  },
  {
   "cell_type": "markdown",
   "metadata": {},
   "source": [
    "### San Diego Schema"
   ]
  },
  {
   "cell_type": "code",
   "execution_count": 19,
   "metadata": {},
   "outputs": [
    {
     "data": {
      "text/plain": [
       "'{\"@context\": \"http://schema.org\",     \"@type\": \"Special Announcement\",     \"name\":\"San Diego\",     \"text\":\"5460\",      \"encodingFormat\" : [\"text/html\", \"text/css\" ] ,      \"inLanguage\": \"en\",      \"datePosted\":\"2020-06-02 16:46:18.582305\",      \"keywords\":\"1\",      \"publisher\": {        \"@type\": \"GovernmentOrganization\",        \"name\": \"San Diego\"        },        \"url\":\"https://www.sandiegocounty.gov/content/sdc/hhsa/programs/phs/community_epidemiology/dc/2019-nCoV/status.html\"    }'"
      ]
     },
     "execution_count": 19,
     "metadata": {},
     "output_type": "execute_result"
    }
   ],
   "source": [
    "count = observation_table.loc[observation_table['City'] == 'Incorporated City'].Count[0].strip(',')\n",
    "count2 = observation_table.loc[observation_table['City'] == 'Unincorporated'].Count[19].strip(',')\n",
    "city_count = int(count.replace(',','')) + int(count2.replace(',',''))\n",
    "\n",
    "create_schema_observations('San Diego County Case Counts',\n",
    "                          'San Diego',\n",
    "                          'https://www.sandiegocounty.gov/content/sdc/hhsa/programs/phs/community_epidemiology/dc/2019-nCoV/status.html'\n",
    "                           ,city_count)\n",
    "\n"
   ]
  },
  {
   "cell_type": "code",
   "execution_count": 23,
   "metadata": {},
   "outputs": [
    {
     "name": "stdout",
     "output_type": "stream",
     "text": [
      "{\"@context\": \"http://schema.org\",     \"@type\": \"Observation\",     \"name\":\"Incorporated City\",     \"text\":\"4,714\",      \"encodingFormat\" : [\"text/html\", \"text/css\" ] ,      \"inLanguage\": \"en\",      \"datePosted\":\"2020-05-28 18:01:50.064066\",      \"keywords\":\"1\",      \"publisher\": {        \"@type\": \"GovernmentOrganization\",        \"name\": \"Incorporated City\"        },        \"url\":\"https://www.sandiegocounty.gov/content/sdc/hhsa/programs/phs/community_epidemiology/dc/2019-nCoV/status.html\"    }\n",
      "{\"@context\": \"http://schema.org\",     \"@type\": \"Observation\",     \"name\":\"Carlsbad\",     \"text\":\"69\",      \"encodingFormat\" : [\"text/html\", \"text/css\" ] ,      \"inLanguage\": \"en\",      \"datePosted\":\"2020-05-28 18:01:50.064066\",      \"keywords\":\"1\",      \"publisher\": {        \"@type\": \"GovernmentOrganization\",        \"name\": \"Carlsbad\"        },        \"url\":\"https://www.sandiegocounty.gov/content/sdc/hhsa/programs/phs/community_epidemiology/dc/2019-nCoV/status.html\"    }\n",
      "{\"@context\": \"http://schema.org\",     \"@type\": \"Observation\",     \"name\":\"Chula Vista\",     \"text\":\"795\",      \"encodingFormat\" : [\"text/html\", \"text/css\" ] ,      \"inLanguage\": \"en\",      \"datePosted\":\"2020-05-28 18:01:50.064066\",      \"keywords\":\"1\",      \"publisher\": {        \"@type\": \"GovernmentOrganization\",        \"name\": \"Chula Vista\"        },        \"url\":\"https://www.sandiegocounty.gov/content/sdc/hhsa/programs/phs/community_epidemiology/dc/2019-nCoV/status.html\"    }\n",
      "{\"@context\": \"http://schema.org\",     \"@type\": \"Observation\",     \"name\":\"Coronado\",     \"text\":\"16\",      \"encodingFormat\" : [\"text/html\", \"text/css\" ] ,      \"inLanguage\": \"en\",      \"datePosted\":\"2020-05-28 18:01:50.064066\",      \"keywords\":\"1\",      \"publisher\": {        \"@type\": \"GovernmentOrganization\",        \"name\": \"Coronado\"        },        \"url\":\"https://www.sandiegocounty.gov/content/sdc/hhsa/programs/phs/community_epidemiology/dc/2019-nCoV/status.html\"    }\n",
      "{\"@context\": \"http://schema.org\",     \"@type\": \"Observation\",     \"name\":\"Del Mar\",     \"text\":\"13\",      \"encodingFormat\" : [\"text/html\", \"text/css\" ] ,      \"inLanguage\": \"en\",      \"datePosted\":\"2020-05-28 18:01:50.064066\",      \"keywords\":\"1\",      \"publisher\": {        \"@type\": \"GovernmentOrganization\",        \"name\": \"Del Mar\"        },        \"url\":\"https://www.sandiegocounty.gov/content/sdc/hhsa/programs/phs/community_epidemiology/dc/2019-nCoV/status.html\"    }\n",
      "{\"@context\": \"http://schema.org\",     \"@type\": \"Observation\",     \"name\":\"El Cajon\",     \"text\":\"329\",      \"encodingFormat\" : [\"text/html\", \"text/css\" ] ,      \"inLanguage\": \"en\",      \"datePosted\":\"2020-05-28 18:01:50.064066\",      \"keywords\":\"1\",      \"publisher\": {        \"@type\": \"GovernmentOrganization\",        \"name\": \"El Cajon\"        },        \"url\":\"https://www.sandiegocounty.gov/content/sdc/hhsa/programs/phs/community_epidemiology/dc/2019-nCoV/status.html\"    }\n",
      "{\"@context\": \"http://schema.org\",     \"@type\": \"Observation\",     \"name\":\"Encinitas\",     \"text\":\"40\",      \"encodingFormat\" : [\"text/html\", \"text/css\" ] ,      \"inLanguage\": \"en\",      \"datePosted\":\"2020-05-28 18:01:50.064066\",      \"keywords\":\"1\",      \"publisher\": {        \"@type\": \"GovernmentOrganization\",        \"name\": \"Encinitas\"        },        \"url\":\"https://www.sandiegocounty.gov/content/sdc/hhsa/programs/phs/community_epidemiology/dc/2019-nCoV/status.html\"    }\n",
      "{\"@context\": \"http://schema.org\",     \"@type\": \"Observation\",     \"name\":\"Escondido\",     \"text\":\"185\",      \"encodingFormat\" : [\"text/html\", \"text/css\" ] ,      \"inLanguage\": \"en\",      \"datePosted\":\"2020-05-28 18:01:50.064066\",      \"keywords\":\"1\",      \"publisher\": {        \"@type\": \"GovernmentOrganization\",        \"name\": \"Escondido\"        },        \"url\":\"https://www.sandiegocounty.gov/content/sdc/hhsa/programs/phs/community_epidemiology/dc/2019-nCoV/status.html\"    }\n",
      "{\"@context\": \"http://schema.org\",     \"@type\": \"Observation\",     \"name\":\"Imperial Beach\",     \"text\":\"50\",      \"encodingFormat\" : [\"text/html\", \"text/css\" ] ,      \"inLanguage\": \"en\",      \"datePosted\":\"2020-05-28 18:01:50.064066\",      \"keywords\":\"1\",      \"publisher\": {        \"@type\": \"GovernmentOrganization\",        \"name\": \"Imperial Beach\"        },        \"url\":\"https://www.sandiegocounty.gov/content/sdc/hhsa/programs/phs/community_epidemiology/dc/2019-nCoV/status.html\"    }\n",
      "{\"@context\": \"http://schema.org\",     \"@type\": \"Observation\",     \"name\":\"La Mesa\",     \"text\":\"100\",      \"encodingFormat\" : [\"text/html\", \"text/css\" ] ,      \"inLanguage\": \"en\",      \"datePosted\":\"2020-05-28 18:01:50.064066\",      \"keywords\":\"1\",      \"publisher\": {        \"@type\": \"GovernmentOrganization\",        \"name\": \"La Mesa\"        },        \"url\":\"https://www.sandiegocounty.gov/content/sdc/hhsa/programs/phs/community_epidemiology/dc/2019-nCoV/status.html\"    }\n",
      "{\"@context\": \"http://schema.org\",     \"@type\": \"Observation\",     \"name\":\"Lemon Grove\",     \"text\":\"54\",      \"encodingFormat\" : [\"text/html\", \"text/css\" ] ,      \"inLanguage\": \"en\",      \"datePosted\":\"2020-05-28 18:01:50.064066\",      \"keywords\":\"1\",      \"publisher\": {        \"@type\": \"GovernmentOrganization\",        \"name\": \"Lemon Grove\"        },        \"url\":\"https://www.sandiegocounty.gov/content/sdc/hhsa/programs/phs/community_epidemiology/dc/2019-nCoV/status.html\"    }\n",
      "{\"@context\": \"http://schema.org\",     \"@type\": \"Observation\",     \"name\":\"National City\",     \"text\":\"265\",      \"encodingFormat\" : [\"text/html\", \"text/css\" ] ,      \"inLanguage\": \"en\",      \"datePosted\":\"2020-05-28 18:01:50.064066\",      \"keywords\":\"1\",      \"publisher\": {        \"@type\": \"GovernmentOrganization\",        \"name\": \"National City\"        },        \"url\":\"https://www.sandiegocounty.gov/content/sdc/hhsa/programs/phs/community_epidemiology/dc/2019-nCoV/status.html\"    }\n",
      "{\"@context\": \"http://schema.org\",     \"@type\": \"Observation\",     \"name\":\"Oceanside\",     \"text\":\"128\",      \"encodingFormat\" : [\"text/html\", \"text/css\" ] ,      \"inLanguage\": \"en\",      \"datePosted\":\"2020-05-28 18:01:50.064066\",      \"keywords\":\"1\",      \"publisher\": {        \"@type\": \"GovernmentOrganization\",        \"name\": \"Oceanside\"        },        \"url\":\"https://www.sandiegocounty.gov/content/sdc/hhsa/programs/phs/community_epidemiology/dc/2019-nCoV/status.html\"    }\n",
      "{\"@context\": \"http://schema.org\",     \"@type\": \"Observation\",     \"name\":\"Poway\",     \"text\":\"35\",      \"encodingFormat\" : [\"text/html\", \"text/css\" ] ,      \"inLanguage\": \"en\",      \"datePosted\":\"2020-05-28 18:01:50.064066\",      \"keywords\":\"1\",      \"publisher\": {        \"@type\": \"GovernmentOrganization\",        \"name\": \"Poway\"        },        \"url\":\"https://www.sandiegocounty.gov/content/sdc/hhsa/programs/phs/community_epidemiology/dc/2019-nCoV/status.html\"    }\n",
      "{\"@context\": \"http://schema.org\",     \"@type\": \"Observation\",     \"name\":\"San Diego\",     \"text\":\"2,438\",      \"encodingFormat\" : [\"text/html\", \"text/css\" ] ,      \"inLanguage\": \"en\",      \"datePosted\":\"2020-05-28 18:01:50.064066\",      \"keywords\":\"1\",      \"publisher\": {        \"@type\": \"GovernmentOrganization\",        \"name\": \"San Diego\"        },        \"url\":\"https://www.sandiegocounty.gov/content/sdc/hhsa/programs/phs/community_epidemiology/dc/2019-nCoV/status.html\"    }\n",
      "{\"@context\": \"http://schema.org\",     \"@type\": \"Observation\",     \"name\":\"San Marcos\",     \"text\":\"54\",      \"encodingFormat\" : [\"text/html\", \"text/css\" ] ,      \"inLanguage\": \"en\",      \"datePosted\":\"2020-05-28 18:01:50.064066\",      \"keywords\":\"1\",      \"publisher\": {        \"@type\": \"GovernmentOrganization\",        \"name\": \"San Marcos\"        },        \"url\":\"https://www.sandiegocounty.gov/content/sdc/hhsa/programs/phs/community_epidemiology/dc/2019-nCoV/status.html\"    }\n",
      "{\"@context\": \"http://schema.org\",     \"@type\": \"Observation\",     \"name\":\"Santee\",     \"text\":\"49\",      \"encodingFormat\" : [\"text/html\", \"text/css\" ] ,      \"inLanguage\": \"en\",      \"datePosted\":\"2020-05-28 18:01:50.064066\",      \"keywords\":\"1\",      \"publisher\": {        \"@type\": \"GovernmentOrganization\",        \"name\": \"Santee\"        },        \"url\":\"https://www.sandiegocounty.gov/content/sdc/hhsa/programs/phs/community_epidemiology/dc/2019-nCoV/status.html\"    }\n",
      "{\"@context\": \"http://schema.org\",     \"@type\": \"Observation\",     \"name\":\"Solana Beach\",     \"text\":\"7\",      \"encodingFormat\" : [\"text/html\", \"text/css\" ] ,      \"inLanguage\": \"en\",      \"datePosted\":\"2020-05-28 18:01:50.064066\",      \"keywords\":\"1\",      \"publisher\": {        \"@type\": \"GovernmentOrganization\",        \"name\": \"Solana Beach\"        },        \"url\":\"https://www.sandiegocounty.gov/content/sdc/hhsa/programs/phs/community_epidemiology/dc/2019-nCoV/status.html\"    }\n",
      "{\"@context\": \"http://schema.org\",     \"@type\": \"Observation\",     \"name\":\"Vista\",     \"text\":\"87\",      \"encodingFormat\" : [\"text/html\", \"text/css\" ] ,      \"inLanguage\": \"en\",      \"datePosted\":\"2020-05-28 18:01:50.064066\",      \"keywords\":\"1\",      \"publisher\": {        \"@type\": \"GovernmentOrganization\",        \"name\": \"Vista\"        },        \"url\":\"https://www.sandiegocounty.gov/content/sdc/hhsa/programs/phs/community_epidemiology/dc/2019-nCoV/status.html\"    }\n",
      "{\"@context\": \"http://schema.org\",     \"@type\": \"Observation\",     \"name\":\"Unincorporated\",     \"text\":\"746\",      \"encodingFormat\" : [\"text/html\", \"text/css\" ] ,      \"inLanguage\": \"en\",      \"datePosted\":\"2020-05-28 18:01:50.064066\",      \"keywords\":\"1\",      \"publisher\": {        \"@type\": \"GovernmentOrganization\",        \"name\": \"Unincorporated\"        },        \"url\":\"https://www.sandiegocounty.gov/content/sdc/hhsa/programs/phs/community_epidemiology/dc/2019-nCoV/status.html\"    }\n"
     ]
    }
   ],
   "source": [
    "url = 'https://www.sandiegocounty.gov/content/sdc/hhsa/programs/phs/community_epidemiology/dc/2019-nCoV/status.html'\n",
    "title = 'San Diego County Case Counts'\n",
    "for index, elem in observation_table.iterrows():\n",
    "        city = elem.City\n",
    "        count = elem.Count \n",
    "        print(create_schema_observations(title, city, url, count))\n",
    "        "
   ]
  },
  {
   "cell_type": "code",
   "execution_count": null,
   "metadata": {},
   "outputs": [],
   "source": []
  }
 ],
 "metadata": {
  "kernelspec": {
   "display_name": "Python 3",
   "language": "python",
   "name": "python3"
  },
  "language_info": {
   "codemirror_mode": {
    "name": "ipython",
    "version": 3
   },
   "file_extension": ".py",
   "mimetype": "text/x-python",
   "name": "python",
   "nbconvert_exporter": "python",
   "pygments_lexer": "ipython3",
   "version": "3.7.1"
  }
 },
 "nbformat": 4,
 "nbformat_minor": 2
}
